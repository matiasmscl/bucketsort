{
 "cells": [
  {
   "cell_type": "code",
   "execution_count": 1,
   "id": "102198f6-b50f-423e-9f23-becdf57014a0",
   "metadata": {},
   "outputs": [
    {
     "name": "stdout",
     "output_type": "stream",
     "text": [
      "[634, 861, 215, 704, 152, 441, 64, 310, 576, 499, 67, 459, 920, 149, 847, 355, 356, 517, 457, 964, 902, 928, 453, 658, 906, 597, 971, 947, 470, 409, 384, 973, 871, 405, 263, 773, 39, 886, 875, 615, 506, 661, 407, 327, 780, 538, 645, 855, 437, 831, 21, 544, 748, 803, 89, 59, 668, 333, 972, 155, 36, 863, 369, 164, 860, 550, 752, 316, 50, 694, 484, 709, 568, 48, 305, 87, 727, 605, 833, 357, 4, 10, 648, 337, 762, 393, 985, 724, 755, 307, 742, 963, 870, 209, 46, 360, 172, 718, 132, 148]\n",
      "100\n"
     ]
    }
   ],
   "source": [
    "import random\n",
    "n = random.sample(range(0, 1000), 100)\n",
    "print(n)\n",
    "print(len(n))"
   ]
  },
  {
   "cell_type": "code",
   "execution_count": 2,
   "id": "39323b70-55a5-4f5f-a1e5-3f660ed3a206",
   "metadata": {},
   "outputs": [],
   "source": [
    "def bucketsort(L,n):\n",
    "    if len(L)>1:\n",
    "        Listas=[]\n",
    "        maximo=max(L)+1\n",
    "        minimo=min(L)-1\n",
    "        delta=(maximo-minimo)/n\n",
    "        for k in range(n):\n",
    "            Lista_aux=[]\n",
    "            corte_min=minimo+k*delta\n",
    "            corte_max=minimo+(k+1)*delta\n",
    "            for m in L:\n",
    "                if (m>=corte_min) & (m<corte_max):\n",
    "                    Lista_aux=Lista_aux+[m]\n",
    "            Listas=Listas+bucketsort(Lista_aux,n)\n",
    "        return Listas\n",
    "    else:\n",
    "        return L"
   ]
  },
  {
   "cell_type": "code",
   "execution_count": 3,
   "id": "3a060013-42c3-4e19-9c6d-fe56ba153ab0",
   "metadata": {},
   "outputs": [
    {
     "name": "stdout",
     "output_type": "stream",
     "text": [
      "[4, 10, 21, 36, 39, 46, 48, 50, 59, 64, 67, 87, 89, 132, 148, 149, 152, 155, 164, 172, 209, 215, 263, 305, 307, 310, 316, 327, 333, 337, 355, 356, 357, 360, 369, 384, 393, 405, 407, 409, 437, 441, 453, 457, 459, 470, 484, 499, 506, 517, 538, 544, 550, 568, 576, 597, 605, 615, 634, 645, 648, 658, 661, 668, 694, 704, 709, 718, 724, 727, 742, 748, 752, 755, 762, 773, 780, 803, 831, 833, 847, 855, 860, 861, 863, 870, 871, 875, 886, 902, 906, 920, 928, 947, 963, 964, 971, 972, 973, 985]\n",
      "100\n"
     ]
    }
   ],
   "source": [
    "n2=bucketsort(n,20)\n",
    "print(n2)\n",
    "print(len(n2))"
   ]
  },
  {
   "cell_type": "code",
   "execution_count": null,
   "id": "e3166aa7-770f-439c-9e44-c33d6577ed89",
   "metadata": {},
   "outputs": [],
   "source": []
  }
 ],
 "metadata": {
  "kernelspec": {
   "display_name": "Python 3 (ipykernel)",
   "language": "python",
   "name": "python3"
  },
  "language_info": {
   "codemirror_mode": {
    "name": "ipython",
    "version": 3
   },
   "file_extension": ".py",
   "mimetype": "text/x-python",
   "name": "python",
   "nbconvert_exporter": "python",
   "pygments_lexer": "ipython3",
   "version": "3.9.7"
  }
 },
 "nbformat": 4,
 "nbformat_minor": 5
}
